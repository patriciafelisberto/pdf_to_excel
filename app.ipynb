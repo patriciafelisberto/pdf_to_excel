{
 "cells": [
  {
   "cell_type": "markdown",
   "metadata": {},
   "source": [
    "#### Importando as Bibliotecas Necessárias"
   ]
  },
  {
   "cell_type": "code",
   "execution_count": 1,
   "metadata": {},
   "outputs": [],
   "source": [
    "import os\n",
    "import pandas as pd\n",
    "import pdfplumber"
   ]
  },
  {
   "cell_type": "markdown",
   "metadata": {},
   "source": [
    "#### Função para converter pdf em excel"
   ]
  },
  {
   "cell_type": "code",
   "execution_count": null,
   "metadata": {},
   "outputs": [],
   "source": [
    "def pdf_to_excel(pdf_path, excel_path):\n",
    "    with pdfplumber.open(pdf_path) as pdf:\n",
    "        first_table = pdf.pages[0]\n",
    "        table = first_table.extract_table()\n",
    "\n",
    "    df = pd.DataFrame(table)\n",
    "    df.columns = df.iloc[0]\n",
    "    df.to_excel(excel_path, index=False)\n",
    "\n",
    "def convert_all_pdfs_in_directory(source_directory, destination_directory):\n",
    "    if not os.path.exists(destination_directory):\n",
    "        os.makedirs(destination_directory)\n",
    "\n",
    "    files = os.listdir(source_directory)\n",
    "\n",
    "    pdf_files = [arq for arq in files if arq.endswith('.pdf')]\n",
    "\n",
    "    for pdf_file in pdf_files:\n",
    "        try:\n",
    "            pdf_path = os.path.join(source_directory, pdf_file)\n",
    "            excel_path = os.path.join(destination_directory, pdf_file.replace('.pdf', '.xlsx'))\n",
    "            \n",
    "            pdf_to_excel(pdf_path, excel_path)\n",
    "            print(f\"Arquivo {pdf_file} convertido com sucesso!\")\n",
    "        except Exception as e:\n",
    "            print(f\"Erro ao converter {pdf_file}: {e}\")\n",
    "\n",
    "source_directory = r'0_pdf'\n",
    "destination_directory = r'1_excel'\n",
    "\n",
    "convert_all_pdfs_in_directory(source_directory, destination_directory)"
   ]
  },
  {
   "cell_type": "markdown",
   "metadata": {},
   "source": [
    "#### ETL do primeiro PDF após conversão para Excel"
   ]
  },
  {
   "cell_type": "code",
   "execution_count": null,
   "metadata": {},
   "outputs": [],
   "source": [
    "def process_and_save_excel_file(excel_path, output_directory):\n",
    "    df = pd.read_excel(excel_path)\n",
    "    df = df.iloc[5:].copy()\n",
    "    df.columns = df.iloc[0]\n",
    "    df = df[1:].reset_index(drop=True)\n",
    "\n",
    "    company_name = df.iloc[0, 0].split(\":\")[1].strip()\n",
    "    cpf_cnpj = df.iloc[0, 5].split(\":\")[1].strip()\n",
    "    qualification = df.iloc[1, 0].split(\":\")[1].strip()\n",
    "\n",
    "    all_columns = [\"Informações\", \"Valor Mobiliário Derivativo\", \"Características dos Títulos\", \"Intermediário\", \"Operação\", \"Dia\", \"Quantidade\", \"Preço\", \"Volume (R$)\"]\n",
    "    df_final = pd.DataFrame(columns=all_columns)\n",
    "\n",
    "    basic_info = {\n",
    "        \"Informações\": [\"Denominação da Companhia: \" + company_name, \"Nome: \" + company_name, \"CPF/CNPJ: \" + cpf_cnpj, \"Qualificação: \" + qualification]\n",
    "    }\n",
    "    df_basic_info = pd.DataFrame(basic_info)\n",
    "    df_final = pd.concat([df_final, df_basic_info], ignore_index=True)\n",
    "\n",
    "    saldo_inicial = {\"Informações\": \"Saldo Inicial\"}\n",
    "    df_saldo_inicial = pd.DataFrame([saldo_inicial])\n",
    "    df_final = pd.concat([df_final, df_saldo_inicial], ignore_index=True)\n",
    "\n",
    "    initial_actions = {\"Valor Mobiliário Derivativo\": \"Ações\", \"Características dos Títulos\": \"PN\", \"Quantidade\": df.iloc[5, 8]}\n",
    "    df_initial_actions = pd.DataFrame([initial_actions])\n",
    "    df_final = pd.concat([df_final, df_initial_actions], ignore_index=True)\n",
    "\n",
    "    movements = {\"Informações\": \"Movimentações no Mês\"}\n",
    "    df_movements = pd.DataFrame([movements])\n",
    "    df_final = pd.concat([df_final, df_movements], ignore_index=True)\n",
    "\n",
    "    actions_movements = {\"Valor Mobiliário Derivativo\": \"Ações\", \"Características dos Títulos\": \"PN\", \"Intermediário\": df.iloc[8, 2], \"Operação\": df.iloc[8, 3], \"Dia\": df.iloc[8, 4], \"Quantidade\": df.iloc[8, 5], \"Preço\": df.iloc[8, 6], \"Volume (R$)\": df.iloc[8, 7]}\n",
    "    df_actions_movements = pd.DataFrame([actions_movements])\n",
    "    df_final = pd.concat([df_final, df_actions_movements], ignore_index=True)\n",
    "\n",
    "    final_balance = {\"Informações\": \"Saldo Final\"}\n",
    "    df_final_balance = pd.DataFrame([final_balance])\n",
    "    df_final = pd.concat([df_final, df_final_balance], ignore_index=True)\n",
    "\n",
    "    final_actions = {\"Valor Mobiliário Derivativo\": \"Ações\", \"Características dos Títulos\": \"PN\", \"Quantidade\": df.iloc[11, 6]}\n",
    "    df_final_actions = pd.DataFrame([final_actions])\n",
    "    df_final = pd.concat([df_final, df_final_actions], ignore_index=True)\n",
    "\n",
    "    if not os.path.exists(output_directory):\n",
    "        os.makedirs(output_directory)\n",
    "    output_path = os.path.join(output_directory, os.path.basename(excel_path))\n",
    "    df_final.to_excel(output_path, index=False)\n",
    "    return df_final\n",
    "\n",
    "input_directory = '1_excel'\n",
    "input_filename = 'ABCB4 - BCO ABC BRASIL S.A. - Valores Mobiliários Negociados e Detidos 2023-06-01 - prot 1121359.xlsx'\n",
    "input_path = os.path.join(input_directory, input_filename)\n",
    "output_directory = '2_excel_processed'\n",
    "\n",
    "process_and_save_excel_file(input_path, output_directory)"
   ]
  },
  {
   "cell_type": "markdown",
   "metadata": {},
   "source": [
    "#### Visualização do Dataframe (retirando células vazias)"
   ]
  },
  {
   "cell_type": "code",
   "execution_count": null,
   "metadata": {},
   "outputs": [],
   "source": [
    "df = pd.read_excel('2_excel_processed/ABCB4 - BCO ABC BRASIL S.A. - Valores Mobiliários Negociados e Detidos 2023-06-01 - prot 1121359.xlsx')\n",
    "df = df.fillna('')\n",
    "display(df)"
   ]
  }
 ],
 "metadata": {
  "kernelspec": {
   "display_name": "venv",
   "language": "python",
   "name": "python3"
  },
  "language_info": {
   "codemirror_mode": {
    "name": "ipython",
    "version": 3
   },
   "file_extension": ".py",
   "mimetype": "text/x-python",
   "name": "python",
   "nbconvert_exporter": "python",
   "pygments_lexer": "ipython3",
   "version": "3.8.10"
  },
  "orig_nbformat": 4
 },
 "nbformat": 4,
 "nbformat_minor": 2
}
